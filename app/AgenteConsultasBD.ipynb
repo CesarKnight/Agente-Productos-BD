{
 "cells": [
  {
   "cell_type": "markdown",
   "id": "ac7c9613",
   "metadata": {},
   "source": [
    "### Agente con consultas a una Base de Datos"
   ]
  },
  {
   "cell_type": "markdown",
   "id": "01b53496",
   "metadata": {},
   "source": [
    "Definimos el LLM"
   ]
  },
  {
   "cell_type": "code",
   "execution_count": 98,
   "id": "66a7afd1",
   "metadata": {},
   "outputs": [],
   "source": [
    "from langchain_openai import ChatOpenAI\n",
    "from dotenv import load_dotenv\n",
    "import os\n",
    "\n",
    "load_dotenv()\n",
    "openai_model = os.getenv(\"LLM_MODEL\", \"gpt-o4-mini\")\n",
    "\n",
    "# Crear una instancia del modelo ChatOpenAI\n",
    "llm = ChatOpenAI(model= openai_model, temperature=0.5)"
   ]
  },
  {
   "cell_type": "markdown",
   "id": "f15e8bef",
   "metadata": {},
   "source": [
    "Definimos la herramienta que recuperará los productos de la base de datos"
   ]
  },
  {
   "cell_type": "code",
   "execution_count": 99,
   "id": "eb6b3463",
   "metadata": {},
   "outputs": [
    {
     "name": "stdout",
     "output_type": "stream",
     "text": [
      "Connecting to database product_marketing at localhost:5432 as user user\n",
      "postgresql\n",
      "['products']\n"
     ]
    }
   ],
   "source": [
    "from langchain_community.utilities import SQLDatabase\n",
    "\n",
    "username = os.getenv(\"POSTGRES_USER\")\n",
    "password = os.getenv(\"POSTGRES_PASSWORD\")\n",
    "host = os.getenv(\"POSTGRES_HOST\", \"localhost\")  # Default to localhost\n",
    "port = os.getenv(\"POSTGRES_PORT\", \"5432\")  # Default PostgreSQL port\n",
    "database = os.getenv(\"POSTGRES_DB\", \"mydatabase\")  # Default database name\n",
    "\n",
    "print(f\"Connecting to database {database} at {host}:{port} as user {username}\")\n",
    "\n",
    "connection_uri = f\"postgresql+psycopg2://{username}:{password}@{host}:{port}/{database}\"\n",
    "\n",
    "dbEngine = SQLDatabase.from_uri(connection_uri)\n",
    "print(dbEngine.dialect)\n",
    "print(dbEngine.get_usable_table_names())"
   ]
  },
  {
   "cell_type": "markdown",
   "id": "d3e68207",
   "metadata": {},
   "source": [
    "Usamos las herramientas proveidas por SQLDatabaseToolkit para listar las tablas"
   ]
  },
  {
   "cell_type": "code",
   "execution_count": 100,
   "id": "fd0531c5",
   "metadata": {},
   "outputs": [
    {
     "name": "stdout",
     "output_type": "stream",
     "text": [
      "['products']\n",
      "\n",
      "CREATE TABLE products (\n",
      "\tid SERIAL NOT NULL, \n",
      "\tname VARCHAR NOT NULL, \n",
      "\tdescription VARCHAR, \n",
      "\tCONSTRAINT products_pkey PRIMARY KEY (id)\n",
      ")\n",
      "\n",
      "/*\n",
      "3 rows from products table:\n",
      "id\tname\tdescription\n",
      "1\tLaptop\tA high-performance laptop\n",
      "2\tSmartphone\tA latest-gen smartphone\n",
      "3\tLaptop\tA high-performance laptop for professionals.\n",
      "*/\n"
     ]
    }
   ],
   "source": [
    "from langchain_core.tools import tool\n",
    "from langchain_community.agent_toolkits import SQLDatabaseToolkit\n",
    "from langgraph.prebuilt import ToolNode\n",
    "from langchain_core.messages import ToolMessage\n",
    "\n",
    "toolkit = SQLDatabaseToolkit(db=dbEngine, llm=llm)\n",
    "tools = toolkit.get_tools()\n",
    "\n",
    "get_schema_tool = next(tool for tool in tools if tool.name == \"sql_db_schema\")\n",
    "list_tables_tool = next(tool for tool in tools if tool.name == \"sql_db_list_tables\")\n",
    "\n",
    "def list_tables():\n",
    "    \"\"\"List all tables in the database.\"\"\"\n",
    "    return dbEngine.get_usable_table_names()\n",
    "\n",
    "def get_schema():\n",
    "    \"\"\"Get the schema of the database.\"\"\"\n",
    "    \n",
    "    return dbEngine.get_table_info()\n",
    "    \n",
    "\n",
    "list_tables_result = list_tables()\n",
    "tables_schema = get_schema()\n",
    "\n",
    "print(list_tables_result)\n",
    "print(tables_schema)"
   ]
  },
  {
   "cell_type": "markdown",
   "id": "f7416c24",
   "metadata": {},
   "source": [
    "Definimos el estado el cual será mutado por los nodos"
   ]
  },
  {
   "cell_type": "code",
   "execution_count": 101,
   "id": "d58d29b0",
   "metadata": {},
   "outputs": [],
   "source": [
    "from typing import Annotated, Sequence\n",
    "from typing_extensions import TypedDict\n",
    "from langchain_core.messages import BaseMessage, AnyMessage\n",
    "from langgraph.graph.message import add_messages\n",
    "\n",
    "class AgentState(TypedDict):\n",
    "    \"\"\"State of the agent.\"\"\"\n",
    "    question: str\n",
    "    query: str \n",
    "    \n",
    "    summary: str\n",
    "    messages: Annotated[Sequence[BaseMessage], add_messages]"
   ]
  },
  {
   "cell_type": "markdown",
   "id": "e026e696",
   "metadata": {},
   "source": [
    "Definimos los Nodos"
   ]
  },
  {
   "cell_type": "code",
   "execution_count": 102,
   "id": "9ea11365",
   "metadata": {},
   "outputs": [],
   "source": [
    "from langchain_core.messages import  SystemMessage, AIMessage, FunctionMessage\n",
    "from langchain_community.tools.sql_database.tool import QuerySQLDatabaseTool\n",
    "\n",
    "default_number_rows = 5\n",
    "\n",
    "class QueryOutput(TypedDict):\n",
    "    \"\"\"Generated SQL query.\"\"\"\n",
    "\n",
    "    query: Annotated[str, ..., \"Syntactically valid SQL query.\"]\n",
    "    \n",
    "    \n",
    "def generate_query(state: AgentState):\n",
    "    \n",
    "    \n",
    "    generate_query_system_prompt = \"\"\"\n",
    "    Given an input question, create a syntactically correct {dialect} query to\n",
    "    run to help find the answer. Unless the user specifies in his question a\n",
    "    specific number of examples they wish to obtain, always limit your query to\n",
    "    at most {top_k} results. You can order the results by a relevant column to\n",
    "    return the most interesting examples in the database.\n",
    "\n",
    "    Never query for all the columns from a specific table, only ask for a the\n",
    "    few relevant columns given the question.\n",
    "\n",
    "    Pay attention to use only the column names that you can see in the schema\n",
    "    description. Be careful to not query for columns that do not exist. Also,\n",
    "    pay attention to which column is in which table.\n",
    "\n",
    "    Only use the following tables:\n",
    "    {table_info}\n",
    "    \"\"\".format(\n",
    "        dialect=dbEngine.dialect,\n",
    "        top_k=default_number_rows,\n",
    "        table_info=tables_schema,\n",
    "    )\n",
    "    sys_message = SystemMessage(content=generate_query_system_prompt)\n",
    "    structured_llm = llm.with_structured_output(QueryOutput)\n",
    "    \n",
    "    last_message = state[\"messages\"][-1] if state[\"messages\"] else None\n",
    "    response = structured_llm.invoke([sys_message]+[last_message])\n",
    "    query =response.get(\"query\", \"\")\n",
    "    \n",
    "    response_message = AIMessage(\n",
    "        content=f\"Generated query: {query}\"\n",
    "    )\n",
    "\n",
    "    return {\"query\": query, \"messages\": [response_message]}\n",
    "\n",
    "def check_query(state: AgentState):\n",
    "    \n",
    "    check_query_system_prompt = \"\"\"\n",
    "    You are a SQL expert with a strong attention to detail.\n",
    "    Double check the {dialect} query for common mistakes, including:\n",
    "    - Using NOT IN with NULL values\n",
    "    - Using UNION when UNION ALL should have been used\n",
    "    - Using BETWEEN for exclusive ranges\n",
    "    - Data type mismatch in predicates\n",
    "    - Properly quoting identifiers\n",
    "    - Using the correct number of arguments for functions\n",
    "    - Casting to the correct data type\n",
    "    - Using the proper columns for joins\n",
    "\n",
    "    If there are any of the above mistakes, rewrite the query. If there are no mistakes,\n",
    "    just reproduce the original query.\n",
    "\n",
    "    You will call the appropriate tool to execute the query after running this check.\n",
    "    \"\"\".format(dialect=dbEngine.dialect)\n",
    "    \n",
    "    sys_message = SystemMessage(content=check_query_system_prompt)\n",
    "    query = state.get(\"query\", \"\")\n",
    "    \n",
    "    query_message = AIMessage(content=query)\n",
    "    \n",
    "    response = llm.invoke([sys_message] + [query_message])\n",
    "\n",
    "    return {\"messages\": [response]}\n",
    "\n",
    "def run_query(state: AgentState):\n",
    "    \"\"\"Execute SQL query.\"\"\"\n",
    "    execute_query_tool = QuerySQLDatabaseTool(db=dbEngine)\n",
    "    query = state.get(\"query\", \"\")\n",
    "\n",
    "    result = execute_query_tool.invoke(query)\n",
    "    result_message = FunctionMessage(name=\"Sql_query\", content=result)\n",
    "    return {\"messages\": [result_message]}"
   ]
  },
  {
   "cell_type": "markdown",
   "id": "3dc28821",
   "metadata": {},
   "source": [
    "Hacemos una arista condicional"
   ]
  },
  {
   "cell_type": "code",
   "execution_count": 103,
   "id": "5a4dcde3",
   "metadata": {},
   "outputs": [],
   "source": [
    "# from typing import Literal\n",
    "\n",
    "# def should_continue(state: AgentState) -> Literal[\"generate_query\", \"run_query\"]:\n",
    "#     messages = state[\"messages\"]\n",
    "#     last_message = messages[-1]\n",
    "#     if not last_message.tool_calls:\n",
    "#         return END\n",
    "#     else:\n",
    "#         return \"check_query\""
   ]
  },
  {
   "cell_type": "markdown",
   "id": "eaf7afea",
   "metadata": {},
   "source": [
    "Construimos el grafo"
   ]
  },
  {
   "cell_type": "code",
   "execution_count": 112,
   "id": "533e3519",
   "metadata": {},
   "outputs": [
    {
     "data": {
      "image/png": "[encoded data removed]",
      "text/plain": [
       "<IPython.core.display.Image object>"
      ]
     },
     "metadata": {},
     "output_type": "display_data"
    }
   ],
   "source": [
    "from langgraph.graph import START, StateGraph,END\n",
    "\n",
    "builder = StateGraph(AgentState)\n",
    "builder.add_node(generate_query)\n",
    "builder.add_node(check_query)\n",
    "builder.add_node(run_query)\n",
    "\n",
    "builder.add_edge(START, \"generate_query\")\n",
    "builder.add_edge(\"generate_query\", \"check_query\")\n",
    "builder.add_edge(\"check_query\", \"run_query\")\n",
    "builder.add_edge(\"run_query\", END)\n",
    "\n",
    "agent = builder.compile()\n",
    "\n",
    "from IPython.display import Image, display\n",
    "from langchain_core.runnables.graph import CurveStyle, MermaidDrawMethod, NodeStyles\n",
    "\n",
    "display(Image(agent.get_graph().draw_mermaid_png()))"
   ]
  },
  {
   "cell_type": "markdown",
   "id": "1f3339e5",
   "metadata": {},
   "source": [
    "Pruebas"
   ]
  },
  {
   "cell_type": "code",
   "execution_count": 114,
   "id": "10eef245",
   "metadata": {},
   "outputs": [
    {
     "name": "stdout",
     "output_type": "stream",
     "text": [
      "{'generate_query': {'query': 'SELECT name, description FROM products ORDER BY id LIMIT 5;', 'messages': [AIMessage(content='Generated query: SELECT name, description FROM products ORDER BY id LIMIT 5;', additional_kwargs={}, response_metadata={}, id='d4fb9d65-df2a-48e3-9064-7404d14cf6fe')]}}\n",
      "{'check_query': {'messages': [AIMessage(content='The query you provided is:\\n\\n```sql\\nSELECT name, description FROM products ORDER BY id LIMIT 5;\\n```\\n\\nUpon reviewing the query, I can confirm that there are no common mistakes present. The query is correctly structured, and it adheres to the SQL standards for PostgreSQL. \\n\\nSince there are no mistakes, I will reproduce the original query as requested:\\n\\n```sql\\nSELECT name, description FROM products ORDER BY id LIMIT 5;\\n```\\n\\nNow, I will proceed to execute the query.', additional_kwargs={'refusal': None}, response_metadata={'token_usage': {'completion_tokens': 102, 'prompt_tokens': 168, 'total_tokens': 270, 'completion_tokens_details': {'accepted_prediction_tokens': 0, 'audio_tokens': 0, 'reasoning_tokens': 0, 'rejected_prediction_tokens': 0}, 'prompt_tokens_details': {'audio_tokens': 0, 'cached_tokens': 0}}, 'model_name': 'gpt-4o-mini-2024-07-18', 'system_fingerprint': 'fp_54eb4bd693', 'id': 'chatcmpl-Bc2V95BHyH6p9D3GTxyexaZJRL4j3', 'service_tier': 'default', 'finish_reason': 'stop', 'logprobs': None}, id='run--907e5fb5-8e4a-4d0e-b465-b4bde6084924-0', usage_metadata={'input_tokens': 168, 'output_tokens': 102, 'total_tokens': 270, 'input_token_details': {'audio': 0, 'cache_read': 0}, 'output_token_details': {'audio': 0, 'reasoning': 0}})]}}\n",
      "{'run_query': {'messages': [FunctionMessage(content=\"[('Laptop', 'A high-performance laptop'), ('Smartphone', 'A latest-gen smartphone'), ('Laptop', 'A high-performance laptop for professionals.'), ('Smartphone', 'A latest-generation smartphone with OLED display.'), ('Wireless Mouse', 'Ergonomic wireless mouse with long battery life.')]\", additional_kwargs={}, response_metadata={}, name='Sql_query', id='005eb42b-fe00-4b36-a104-22c1e127514c')]}}\n"
     ]
    }
   ],
   "source": [
    "from langchain_core.messages import HumanMessage\n",
    "\n",
    "pregunta = HumanMessage(content=\"¿What products are there?\")\n",
    "\n",
    "for step in agent.stream(\n",
    "    {\n",
    "        \"question\": pregunta.content,\n",
    "        \"messages\": [pregunta],\n",
    "    }\n",
    "): print (step)\n",
    "    "
   ]
  }
 ],
 "metadata": {
  "kernelspec": {
   "display_name": ".venv",
   "language": "python",
   "name": "python3"
  },
  "language_info": {
   "codemirror_mode": {
    "name": "ipython",
    "version": 3
   },
   "file_extension": ".py",
   "mimetype": "text/x-python",
   "name": "python",
   "nbconvert_exporter": "python",
   "pygments_lexer": "ipython3",
   "version": "3.10.16"
  }
 },
 "nbformat": 4,
 "nbformat_minor": 5
}
