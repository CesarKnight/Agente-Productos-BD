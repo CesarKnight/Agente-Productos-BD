{
 "cells": [
  {
   "cell_type": "markdown",
   "id": "ac7c9613",
   "metadata": {},
   "source": [
    "### Agente con consultas a una Base de Datos\n",
    "\n",
    "Definimos la ruta para entrar a la base de datos de sqlite"
   ]
  },
  {
   "cell_type": "code",
   "execution_count": 1,
   "id": "916a651c",
   "metadata": {},
   "outputs": [],
   "source": [
    "from pathlib import Path\n",
    "\n",
    "base_dir = Path.cwd()\n",
    "database_dir = base_dir / \"Databases\""
   ]
  },
  {
   "cell_type": "markdown",
   "id": "01b53496",
   "metadata": {},
   "source": [
    "Definimos el LLM"
   ]
  },
  {
   "cell_type": "code",
   "execution_count": 5,
   "id": "66a7afd1",
   "metadata": {},
   "outputs": [],
   "source": [
    "from langchain_openai import ChatOpenAI\n",
    "from dotenv import load_dotenv\n",
    "import os\n",
    "\n",
    "load_dotenv()\n",
    "\n",
    "openai_model = os.getenv(\"LLM_MODEL\")\n",
    "\n",
    "# Crear una instancia del modelo ChatOpenAI\n",
    "llm = ChatOpenAI(model= openai_model, temperature=0.5)"
   ]
  },
  {
   "cell_type": "markdown",
   "id": "f15e8bef",
   "metadata": {},
   "source": [
    "Definimos la herramienta que recuperará los productos de la base de datos"
   ]
  },
  {
   "cell_type": "code",
   "execution_count": 6,
   "id": "eb6b3463",
   "metadata": {},
   "outputs": [
    {
     "name": "stdout",
     "output_type": "stream",
     "text": [
      "sqlite\n",
      "['Categories', 'Products']\n"
     ]
    }
   ],
   "source": [
    "from langchain_community.utilities import SQLDatabase\n",
    "\n",
    "db = SQLDatabase.from_uri(\"sqlite:///Databases/Productos.db\",)\n",
    "print(db.dialect)\n",
    "print(db.get_usable_table_names())"
   ]
  }
 ],
 "metadata": {
  "kernelspec": {
   "display_name": ".venv",
   "language": "python",
   "name": "python3"
  },
  "language_info": {
   "codemirror_mode": {
    "name": "ipython",
    "version": 3
   },
   "file_extension": ".py",
   "mimetype": "text/x-python",
   "name": "python",
   "nbconvert_exporter": "python",
   "pygments_lexer": "ipython3",
   "version": "3.10.16"
  }
 },
 "nbformat": 4,
 "nbformat_minor": 5
}
